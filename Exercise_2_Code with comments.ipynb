{
  "cells": [
    {
      "cell_type": "markdown",
      "metadata": {
        "id": "view-in-github",
        "colab_type": "text"
      },
      "source": [
        "<a href=\"https://colab.research.google.com/github/Panaxnotoginseng/Exercise-2-Xinyue/blob/main/Exercise_2_Code%20with%20comments.ipynb\" target=\"_parent\"><img src=\"https://colab.research.google.com/assets/colab-badge.svg\" alt=\"Open In Colab\"/></a>"
      ]
    },
    {
      "cell_type": "code",
      "execution_count": null,
      "metadata": {
        "colab": {
          "base_uri": "https://localhost:8080/"
        },
        "id": "pWgq--OvFW4q",
        "outputId": "68918f3f-8a69-4092-df66-ac1cd390f2a4"
      },
      "outputs": [
        {
          "name": "stdout",
          "output_type": "stream",
          "text": [
            "{1: '一', 2: '丁', 3: '万', 4: '三', 5: '世', 6: '丙', 7: '业', 8: '东', 9: '严', 10: '中', 11: '丰', 12: '丹', 13: '丽', 14: '乃', 15: '义', 16: '乐', 17: '乔', 18: '九', 19: '书', 20: '予', 21: '二', 22: '于', 23: '云', 24: '亚', 25: '京', 26: '亮', 27: '人', 28: '仁', 29: '仇', 30: '介', 31: '从', 32: '仕', 33: '付', 34: '仙', 35: '代', 36: '仪', 37: '仲', 38: '任', 39: '伊', 40: '会', 41: '伟', 42: '传', 43: '何', 44: '余', 45: '作', 46: '佩', 47: '佳', 48: '侃', 49: '依', 50: '侠', 51: '侯', 52: '俊', 53: '保', 54: '俞', 55: '候', 56: '倩', 57: '倪', 58: '健', 59: '傅', 60: '储', 61: '元', 62: '兆', 63: '先', 64: '光', 65: '克', 66: '党', 67: '全', 68: '兰', 69: '关', 70: '兴', 71: '兵', 72: '其', 73: '典', 74: '冉', 75: '军', 76: '冠', 77: '冬', 78: '冯', 79: '冰', 80: '冲', 81: '冷', 82: '凝', 83: '凡', 84: '凤', 85: '凯', 86: '函', 87: '刑', 88: '刘', 89: '刚', 90: '初', 91: '利', 92: '前', 93: '剑', 94: '力', 95: '功', 96: '勇', 97: '勤', 98: '包', 99: '化', 100: '匡', 101: '升', 102: '华', 103: '单', 104: '南', 105: '博', 106: '卞', 107: '占', 108: '卢', 109: '卫', 110: '厚', 111: '友', 112: '发', 113: '古', 114: '可', 115: '史', 116: '叶', 117: '吉', 118: '同', 119: '向', 120: '吕', 121: '君', 122: '含', 123: '启', 124: '吴', 125: '呼', 126: '和', 127: '咏', 128: '品', 129: '哲', 130: '唐', 131: '喜', 132: '喻', 133: '嘉', 134: '四', 135: '园', 136: '国', 137: '圆', 138: '圣', 139: '坚', 140: '坤', 141: '城', 142: '培', 143: '基', 144: '堂', 145: '增', 146: '士', 147: '夏', 148: '外', 149: '大', 150: '天', 151: '太', 152: '奇', 153: '奎', 154: '奕', 155: '如', 156: '妃', 157: '妍', 158: '姗', 159: '姚', 160: '姜', 161: '姝', 162: '姬', 163: '威', 164: '娄', 165: '娇', 166: '娜', 167: '娟', 168: '娣', 169: '娥', 170: '婉', 171: '婕', 172: '婴', 173: '婵', 174: '婷', 175: '媚', 176: '媛', 177: '子', 178: '孔', 179: '孙', 180: '孝', 181: '孟', 182: '季', 183: '学', 184: '宁', 185: '宇', 186: '守', 187: '安', 188: '宋', 189: '宏', 190: '宗', 191: '宜', 192: '宝', 193: '宣', 194: '宪', 195: '家', 196: '容', 197: '宾', 198: '富', 199: '寒', 200: '寺', 201: '少', 202: '尚', 203: '尧', 204: '尹', 205: '尼', 206: '屈', 207: '屏', 208: '展', 209: '山', 210: '岑', 211: '岚', 212: '岩', 213: '岸', 214: '峪', 215: '峰', 216: '峻', 217: '崔', 218: '嵩', 219: '巍', 220: '川', 221: '帆', 222: '师', 223: '希', 224: '常', 225: '平', 226: '年', 227: '幸', 228: '幼', 229: '庄', 230: '庆', 231: '应', 232: '庚', 233: '庞', 234: '康', 235: '廉', 236: '廖', 237: '廷', 238: '建', 239: '开', 240: '弟', 241: '张', 242: '强', 243: '彤', 244: '彦', 245: '彩', 246: '彪', 247: '彬', 248: '彭', 249: '影', 250: '征', 251: '徐', 252: '循', 253: '微', 254: '徵', 255: '德', 256: '心', 257: '必', 258: '志', 259: '忠', 260: '念', 261: '思', 262: '怡', 263: '恒', 264: '悦', 265: '情', 266: '惠', 267: '想', 268: '慧', 269: '成', 270: '戚', 271: '戴', 272: '房', 273: '才', 274: '扬', 275: '承', 276: '招', 277: '振', 278: '操', 279: '攀', 280: '支', 281: '改', 282: '敏', 283: '敬', 284: '文', 285: '斌', 286: '斗', 287: '新', 288: '方', 289: '施', 290: '旋', 291: '日', 292: '旭', 293: '时', 294: '旺', 295: '昌', 296: '明', 297: '易', 298: '星', 299: '春', 300: '昭', 301: '昱', 302: '显', 303: '晁', 304: '晓', 305: '晔', 306: '晖', 307: '晨', 308: '景', 309: '晴', 310: '晶', 311: '智', 312: '曙', 313: '曲', 314: '曹', 315: '曾', 316: '月', 317: '有', 318: '朝', 319: '木', 320: '本', 321: '权', 322: '李', 323: '杜', 324: '来', 325: '杨', 326: '杰', 327: '松', 328: '林', 329: '枝', 330: '柏', 331: '柯', 332: '柳', 333: '柴', 334: '标', 335: '栋', 336: '树', 337: '根', 338: '格', 339: '桂', 340: '桐', 341: '桥', 342: '梁', 343: '梅', 344: '梓', 345: '梦', 346: '梨', 347: '森', 348: '楚', 349: '楼', 350: '榕', 351: '樊', 352: '欢', 353: '欣', 354: '欧', 355: '歌', 356: '正', 357: '武', 358: '殊', 359: '段', 360: '毅', 361: '毓', 362: '毕', 363: '毛', 364: '民', 365: '水', 366: '永', 367: '汉', 368: '江', 369: '池', 370: '汤', 371: '汪', 372: '沁', 373: '沄', 374: '沈', 375: '沛', 376: '治', 377: '泉', 378: '泓', 379: '法', 380: '波', 381: '泽', 382: '洁', 383: '洋', 384: '洪', 385: '浦', 386: '浩', 387: '海', 388: '涛', 389: '润', 390: '淑', 391: '清', 392: '温', 393: '游', 394: '湘', 395: '湾', 396: '源', 397: '滔', 398: '滕', 399: '满', 400: '滨', 401: '潘', 402: '澄', 403: '灵', 404: '灿', 405: '炎', 406: '炳', 407: '炽', 408: '焕', 409: '焦', 410: '焰', 411: '焱', 412: '熊', 413: '燕', 414: '爱', 415: '爽', 416: '牛', 417: '牧', 418: '献', 419: '玄', 420: '玉', 421: '王', 422: '玲', 423: '珍', 424: '珠', 425: '琦', 426: '琪', 427: '琳', 428: '琴', 429: '琼', 430: '瑜', 431: '瑞', 432: '瑶', 433: '璐', 434: '生', 435: '田', 436: '由', 437: '申', 438: '男', 439: '登', 440: '白', 441: '皓', 442: '益', 443: '盖', 444: '盛', 445: '真', 446: '瞿', 447: '石', 448: '砚', 449: '碧', 450: '磊', 451: '礼', 452: '祖', 453: '祥', 454: '祺', 455: '禄', 456: '福', 457: '禧', 458: '禾', 459: '秀', 460: '秋', 461: '科', 462: '秦', 463: '程', 464: '立', 465: '章', 466: '童', 467: '端', 468: '竹', 469: '筱', 470: '简', 471: '米', 472: '精', 473: '素', 474: '繁', 475: '红', 476: '纪', 477: '细', 478: '绍', 479: '继', 480: '绪', 481: '维', 482: '缪', 483: '罗', 484: '羊', 485: '美', 486: '群', 487: '羽', 488: '翁', 489: '翔', 490: '翟', 491: '翠', 492: '翰', 493: '耀', 494: '耿', 495: '聪', 496: '肇', 497: '肖', 498: '育', 499: '胜', 500: '胡', 501: '舒', 502: '舜', 503: '良', 504: '艳', 505: '艺', 506: '艾', 507: '芊', 508: '芝', 509: '芦', 510: '芬', 511: '花', 512: '芳', 513: '芷', 514: '芸', 515: '芹', 516: '苏', 517: '苗', 518: '英', 519: '茂', 520: '范', 521: '茅', 522: '茗', 523: '茹', 524: '荀', 525: '荣', 526: '莉', 527: '莫', 528: '莲', 529: '莹', 530: '菊', 531: '菡', 532: '菲', 533: '萌', 534: '萍', 535: '营', 536: '萱', 537: '葛', 538: '董', 539: '蒋', 540: '蒙', 541: '蒲', 542: '蓉', 543: '蓓', 544: '蓝', 545: '蔡', 546: '蕙', 547: '蕴', 548: '蕾', 549: '薄', 550: '薇', 551: '薛', 552: '虎', 553: '虹', 554: '行', 555: '衡', 556: '表', 557: '袁', 558: '裳', 559: '裴', 560: '褚', 561: '西', 562: '覃', 563: '观', 564: '计', 565: '训', 566: '许', 567: '诗', 568: '谢', 569: '谭', 570: '谷', 571: '豪', 572: '贤', 573: '贵', 574: '贺', 575: '贾', 576: '赋', 577: '赖', 578: '赛', 579: '超', 580: '跃', 581: '车', 582: '轩', 583: '轶', 584: '辉', 585: '辛', 586: '辰', 587: '边', 588: '达', 589: '进', 590: '远', 591: '连', 592: '迪', 593: '选', 594: '通', 595: '逸', 596: '道', 597: '邓', 598: '邢', 599: '邦', 600: '邬', 601: '邰', 602: '邱', 603: '邵', 604: '郁', 605: '郝', 606: '郭', 607: '里', 608: '重', 609: '金', 610: '銮', 611: '鑫', 612: '钟', 613: '钦', 614: '钰', 615: '钱', 616: '铁', 617: '铎', 618: '铭', 619: '银', 620: '锁', 621: '锋', 622: '锐', 623: '锡', 624: '锦', 625: '长', 626: '门', 627: '闫', 628: '闻', 629: '阎', 630: '阚', 631: '阮', 632: '阳', 633: '阿', 634: '陆', 635: '陇', 636: '陈', 637: '陶', 638: '隆', 639: '隋', 640: '雁', 641: '雄', 642: '雅', 643: '雨', 644: '雪', 645: '雯', 646: '雷', 647: '霁', 648: '霖', 649: '霜', 650: '霞', 651: '青', 652: '靖', 653: '静', 654: '非', 655: '韦', 656: '韩', 657: '韵', 658: '韶', 659: '项', 660: '顺', 661: '顾', 662: '颖', 663: '颜', 664: '风', 665: '飞', 666: '香', 667: '马', 668: '骏', 669: '骞', 670: '高', 671: '魏', 672: '鲁', 673: '鸣', 674: '鸥', 675: '鸿', 676: '鹏', 677: '鹰', 678: '鹿', 679: '麻', 680: '黄', 681: '黎', 682: '黑', 683: '鼎', 684: '龄', 685: '龙', 686: '龚', 0: '.'}\n"
          ]
        }
      ],
      "source": [
        "import torch\n",
        "import torch.nn.functional as F\n",
        "import matplotlib.pyplot as plt # for making figures\n",
        "%matplotlib inline\n",
        "\n",
        "words = open('Chinese Names.txt', 'r', encoding='utf-8-sig').read().splitlines() # read all the names\n",
        "chars = sorted(list(set(''.join(words)))) # build a list of characters appeared and mappings to/from integers\n",
        "stoi = {s:i+1 for i,s in enumerate(chars)} # assign a number to each character\n",
        "stoi['.'] = 0 # assign 0 to dot\n",
        "itos = {i:s for s,i in stoi.items()} #create a dictionary that contains all the characters and corresponding number\n",
        "print(itos)"
      ]
    },
    {
      "cell_type": "code",
      "execution_count": null,
      "metadata": {
        "colab": {
          "base_uri": "https://localhost:8080/"
        },
        "id": "B_ffpC5XfIuy",
        "outputId": "f46f4e98-9bda-4872-f511-0bf9fd2097ee"
      },
      "outputs": [
        {
          "name": "stdout",
          "output_type": "stream",
          "text": [
            "torch.Size([77, 4]) torch.Size([77])\n"
          ]
        }
      ],
      "source": [
        "# build the dataset\n",
        "\n",
        "block_size = 4 # Chinese names normally have no more than four words. Take 4 characters to make prediction can prevent generating extremely long names\n",
        "\n",
        "X, Y = [], [] #X is the input of the neural network, Y is the label of each example in X\n",
        "for w in words[:20]: # take 20 names\n",
        "  context = [0] * block_size\n",
        "  for ch in w + '.':\n",
        "    ix = stoi[ch]\n",
        "    X.append(context) # the running context\n",
        "    Y.append(ix) # the index of X\n",
        "    context = context[1:] + [ix] # crop the context and append a new character in the sequence\n",
        "\n",
        "X = torch.tensor(X)\n",
        "Y = torch.tensor(Y)\n",
        "print(X.shape, Y.shape) # from 20 names we get 77 examples (depending on name length). 4 input at each time."
      ]
    },
    {
      "cell_type": "code",
      "execution_count": null,
      "metadata": {
        "colab": {
          "base_uri": "https://localhost:8080/"
        },
        "id": "DqIK4hjkGDid",
        "outputId": "c0b5efbe-c693-472a-ec6f-472cdadf8bff"
      },
      "outputs": [
        {
          "name": "stdout",
          "output_type": "stream",
          "text": [
            "torch.Size([3070, 4]) torch.Size([3070])\n",
            "torch.Size([384, 4]) torch.Size([384])\n",
            "torch.Size([381, 4]) torch.Size([381])\n"
          ]
        }
      ],
      "source": [
        "def build_dataset(words):\n",
        "  X, Y = [], [] #X is the input of the neural network, Y is the label of each example in X\n",
        "  for w in words:\n",
        "    context = [0] * block_size #initialize with all dots\n",
        "    for ch in w + '.':\n",
        "      ix = stoi[ch]\n",
        "      X.append(context) # the running context\n",
        "      Y.append(ix) # the index of X\n",
        "      context = context[1:] + [ix] # crop the context and append a new character in the sequence\n",
        "\n",
        "  X = torch.tensor(X)\n",
        "  Y = torch.tensor(Y)\n",
        "  print(X.shape, Y.shape)\n",
        "  return X, Y\n",
        "\n",
        "import random\n",
        "random.seed(42)\n",
        "random.shuffle(words)\n",
        "n1 = int(0.8*len(words))\n",
        "n2 = int(0.9*len(words))\n",
        "\n",
        "# separate datasets\n",
        "Xtr, Ytr = build_dataset(words[:n1]) # training set\n",
        "Xdev, Ydev = build_dataset(words[n1:n2]) # validation set\n",
        "Xte, Yte = build_dataset(words[n2:]) #test set"
      ]
    },
    {
      "cell_type": "code",
      "execution_count": 365,
      "metadata": {
        "id": "2kUSyyNMIhgt"
      },
      "outputs": [],
      "source": [
        "g = torch.Generator().manual_seed(2147483647) # for reproducibility\n",
        "C = torch.randn((687, 10), generator=g) # embed 687 different characters in 10 dimentional space\n",
        "W1 = torch.randn((40, 200), generator=g) #set hidden layer with 40 inputs and 200 neurons\n",
        "b1 = torch.randn(200, generator=g) # set bias for the 200 neurons in hidden layer\n",
        "W2 = torch.randn((200, 687), generator=g) #set output layer with 200 inputs and 687 neurons\n",
        "b2 = torch.randn(687, generator=g) # set bias for the 687 neurons in output layer\n",
        "\n",
        "parameters = [C, W1, b1, W2, b2]\n",
        "\n",
        "for p in parameters:\n",
        "  p.requires_grad = True # make sure all parameters have gradient\n"
      ]
    },
    {
      "cell_type": "code",
      "execution_count": 366,
      "metadata": {
        "colab": {
          "base_uri": "https://localhost:8080/",
          "height": 447
        },
        "id": "qRO1aXFpsqG3",
        "outputId": "c8c0f8f8-7970-4e67-8736-6fb321050a7a"
      },
      "outputs": [
        {
          "output_type": "execute_result",
          "data": {
            "text/plain": [
              "[<matplotlib.lines.Line2D at 0x7903d4325fc0>]"
            ]
          },
          "metadata": {},
          "execution_count": 366
        },
        {
          "output_type": "display_data",
          "data": {
            "text/plain": [
              "<Figure size 640x480 with 1 Axes>"
            ],
            "image/png": "[encoded data removed]"
          },
          "metadata": {}
        }
      ],
      "source": [
        "# find proper learning rate\n",
        "\n",
        "lre = torch.linspace(-3, 0, 1000)\n",
        "lrs = 10**lre\n",
        "lri = []\n",
        "lossi = []\n",
        "\n",
        "\n",
        "for i in range(1000):\n",
        "\n",
        "  # construct minibatches of 80 examples\n",
        "  ix = torch.randint(0, Xtr.shape[0], (80,))\n",
        "\n",
        "  # forward pass\n",
        "  emb = C[Xtr[ix]] # (80, 4, 10)\n",
        "  h = torch.tanh(emb.view(-1, 40) @ W1 + b1) # (80, 100)\n",
        "  logits = h @ W2 + b2 # (80, 687) outcomes\n",
        "  loss = F.cross_entropy(logits, Ytr[ix])\n",
        "\n",
        "  # backward pass\n",
        "  for p in parameters:\n",
        "    p.grad = None # set gradient to 0 every time\n",
        "  loss.backward()\n",
        "\n",
        "  # update parameters\n",
        "  lr = lrs[i]\n",
        "  for p in parameters:\n",
        "    p.data += -lr * p.grad\n",
        "\n",
        "  #track status\n",
        "  lri.append(lre[i])\n",
        "  lossi.append(loss.log10().item())\n",
        "\n",
        "plt.plot(lri,lossi) # exponent of the best learning rate is around -0.3, 10 to -0.3 is about 0.5"
      ]
    },
    {
      "cell_type": "code",
      "execution_count": 450,
      "metadata": {
        "colab": {
          "base_uri": "https://localhost:8080/"
        },
        "id": "yMGrf_f4Iphu",
        "outputId": "4e128421-fde2-462d-8884-5c5c54680845"
      },
      "outputs": [
        {
          "output_type": "stream",
          "name": "stdout",
          "text": [
            "2.6033873558044434\n"
          ]
        }
      ],
      "source": [
        "# training\n",
        "for i in range(20000):\n",
        "\n",
        "  # construct minibatches of 80 examples\n",
        "  ix = torch.randint(0, Xtr.shape[0], (80,))\n",
        "\n",
        "  # forward pass\n",
        "  emb = C[Xtr[ix]] # (80, 4, 10)\n",
        "  h = torch.tanh(emb.view(-1, 40) @ W1 + b1) # (80, 100)\n",
        "  logits = h @ W2 + b2 # (80, 687) outcomes\n",
        "  loss = F.cross_entropy(logits, Ytr[ix])\n",
        "\n",
        "  # backward pass\n",
        "  for p in parameters:\n",
        "    p.grad = None # set gradient to 0 every time\n",
        "  loss.backward()\n",
        "\n",
        "  # update parameters\n",
        "  lr = 0.5 if i < 10000 else 0.01\n",
        "  for p in parameters:\n",
        "    p.data += -lr * p.grad\n",
        "\n",
        "print(loss.item())"
      ]
    },
    {
      "cell_type": "code",
      "execution_count": 451,
      "metadata": {
        "colab": {
          "base_uri": "https://localhost:8080/"
        },
        "id": "JE_9gsOIDQoP",
        "outputId": "1d1559dd-e3c3-4954-d423-2be8a7e30e5b"
      },
      "outputs": [
        {
          "output_type": "stream",
          "name": "stdout",
          "text": [
            "tensor(5.8687, grad_fn=<NllLossBackward0>)\n"
          ]
        }
      ],
      "source": [
        "# test on validation set\n",
        "emb = C[Xdev]\n",
        "h = torch.tanh(emb.view(-1, 40) @ W1 + b1)\n",
        "logits = h @ W2 + b2\n",
        "loss = F.cross_entropy(logits, Ydev)\n",
        "print(loss)"
      ]
    },
    {
      "cell_type": "code",
      "execution_count": 452,
      "metadata": {
        "colab": {
          "base_uri": "https://localhost:8080/"
        },
        "id": "Qh-pjz0xJ-18",
        "outputId": "98b182ba-ca24-46b7-a707-847ed8ece85b"
      },
      "outputs": [
        {
          "output_type": "stream",
          "name": "stdout",
          "text": [
            "tensor(5.9928, grad_fn=<NllLossBackward0>)\n"
          ]
        }
      ],
      "source": [
        "# test on test set\n",
        "emb = C[Xte]\n",
        "h = torch.tanh(emb.view(-1, 40) @ W1 + b1)\n",
        "logits = h @ W2 + b2\n",
        "loss = F.cross_entropy(logits, Yte)\n",
        "print(loss)"
      ]
    },
    {
      "cell_type": "code",
      "execution_count": 455,
      "metadata": {
        "colab": {
          "base_uri": "https://localhost:8080/"
        },
        "id": "pCxJKIpUJE6v",
        "outputId": "242c5a15-210e-47da-b665-0fb9e7448733"
      },
      "outputs": [
        {
          "output_type": "stream",
          "name": "stdout",
          "text": [
            "陈喜丽.\n",
            "王仕正.\n",
            "梁瑶帆.\n",
            "房晓.\n",
            "张章含.\n",
            "刘娜勤.\n",
            "张江钱.\n",
            "莫君宇.\n",
            "瞿海光.\n",
            "陈柳静.\n",
            "冯传君.\n",
            "丁正业.\n",
            "于晓国.\n",
            "李德力.\n",
            "魏鸿鸣.\n",
            "姚满业.\n",
            "胡海芝.\n",
            "柳华亮.\n",
            "郭淑.\n",
            "邰旭.\n"
          ]
        }
      ],
      "source": [
        "# generate names\n",
        "g = torch.Generator().manual_seed(2147497787) # for reproducibility\n",
        "\n",
        "for _ in range(20):\n",
        "\n",
        "    out = []\n",
        "    context = [0] * block_size # initialize with all dots\n",
        "    while True:\n",
        "      emb = C[torch.tensor([context])] # (single example,block_size,d)\n",
        "      h = torch.tanh(emb.view(1, -1) @ W1 + b1)\n",
        "      logits = h @ W2 + b2\n",
        "      probs = F.softmax(logits, dim=1) # normalized probability\n",
        "      ix = torch.multinomial(probs, num_samples=1, generator=g).item()\n",
        "      context = context[1:] + [ix]\n",
        "      out.append(ix)\n",
        "      if ix == 0: #generating a dot means the name ends\n",
        "        break\n",
        "\n",
        "    print(''.join(itos[i] for i in out))"
      ]
    }
  ],
  "metadata": {
    "colab": {
      "provenance": [],
      "authorship_tag": "ABX9TyP+iwIivAMFh/GzUIXS24eX",
      "include_colab_link": true
    },
    "kernelspec": {
      "display_name": "Python 3",
      "name": "python3"
    },
    "language_info": {
      "name": "python"
    }
  },
  "nbformat": 4,
  "nbformat_minor": 0
}